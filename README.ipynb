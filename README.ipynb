{
 "cells": [
  {
   "metadata": {},
   "cell_type": "markdown",
   "source": [
    "\n",
    "### JSONFormatter\n",
    "Format logs as JSON lines\n",
    "### ThreadedHandler\n",
    "Container of handlers for logging in a separate thread"
   ],
   "id": "6950dc2bb75de2ab"
  },
  {
   "metadata": {},
   "cell_type": "markdown",
   "source": [
    "### Configuration example\n",
    "#### in code"
   ],
   "id": "5a4e0f0ed98e3277"
  },
  {
   "metadata": {
    "ExecuteTime": {
     "end_time": "2024-05-12T11:41:23.347551Z",
     "start_time": "2024-05-12T11:41:23.338913Z"
    }
   },
   "cell_type": "code",
   "source": [
    "import logging\n",
    "from logging_extension import ThreadedHandler, JSONFormatter\n",
    "\n",
    "logging.basicConfig(level=logging.DEBUG)\n",
    "logging.getLogger().handlers.clear()\n",
    "\n",
    "handler = logging.StreamHandler()\n",
    "formatter = JSONFormatter(fmt_keys=dict(\n",
    "    logger='name',\n",
    "    level='levelno'\n",
    "))\n",
    "\n",
    "handler.setFormatter(formatter)\n",
    "threaded_handler = ThreadedHandler(stream_handler=handler)\n",
    "\n",
    "logging.getLogger().addHandler(threaded_handler)\n",
    "logging.getLogger().debug('debug_msg', extra={'extra': 'value'})"
   ],
   "id": "b718a4affd224cd0",
   "outputs": [
    {
     "name": "stderr",
     "output_type": "stream",
     "text": [
      "{\"logger\": \"root\", \"level\": 10, \"created\": \"2024-05-12T11:41:23.345463+00:00\", \"message\": \"debug_msg\", \"extra\": \"value\"}\n"
     ]
    }
   ],
   "execution_count": 1
  },
  {
   "metadata": {},
   "cell_type": "markdown",
   "source": "#### via config",
   "id": "39681ae72d9a8b4f"
  },
  {
   "metadata": {
    "ExecuteTime": {
     "end_time": "2024-05-12T11:41:23.418468Z",
     "start_time": "2024-05-12T11:41:23.348681Z"
    }
   },
   "cell_type": "code",
   "source": [
    "import logging.config\n",
    "\n",
    "# Usually defined in .json or .yml file\n",
    "config = {\n",
    "    \"version\": 1,\n",
    "    \"disable_existing_handlers\": False,\n",
    "    \"formatters\": {\n",
    "        \"json_formatter\": {\n",
    "            \"()\": \"logging_extension.JSONFormatter\",\n",
    "            \"fmt_keys\": {\n",
    "                \"name\": \"name\",\n",
    "                \"level\": \"levelno\",\n",
    "                \"line\": \"lineno\"\n",
    "            }\n",
    "        }\n",
    "    },\n",
    "    \"handlers\": {\n",
    "        \"stream_handler\": {\n",
    "            \"class\": \"logging.StreamHandler\",\n",
    "            \"stream\": \"ext://sys.stdout\",\n",
    "            \"formatter\": \"json_formatter\"\n",
    "        },\n",
    "        \"threaded_handler\": {\n",
    "            \"()\": \"logging_extension.ThreadedHandler\",\n",
    "            \"stream_handler\": \"cfg://handlers.stream_handler\"\n",
    "        }\n",
    "    },\n",
    "    \"loggers\": {\n",
    "        \"root\": {\n",
    "            \"level\": \"DEBUG\",\n",
    "            \"handlers\": [\n",
    "                \"threaded_handler\"\n",
    "            ]\n",
    "        }\n",
    "    }\n",
    "}\n",
    "\n",
    "logging.config.dictConfig(config)\n",
    "logging.getLogger().debug('debug_msg', extra={'extra': 'value'})"
   ],
   "id": "bdb867e814e3767f",
   "outputs": [
    {
     "name": "stdout",
     "output_type": "stream",
     "text": [
      "{\"name\": \"root\", \"level\": 10, \"line\": 39, \"created\": \"2024-05-12T11:41:23.416473+00:00\", \"message\": \"debug_msg\", \"extra\": \"value\"}\n"
     ]
    }
   ],
   "execution_count": 2
  },
  {
   "metadata": {},
   "cell_type": "markdown",
   "source": [
    "### BelowLevelFilter\n",
    "Allows logs only below a specified level\n",
    "#### Example"
   ],
   "id": "b10505a8fb75efe1"
  },
  {
   "metadata": {
    "ExecuteTime": {
     "end_time": "2024-05-12T11:41:23.425214Z",
     "start_time": "2024-05-12T11:41:23.419889Z"
    }
   },
   "cell_type": "code",
   "source": [
    "from logging_extension import BelowLevelFilter\n",
    "\n",
    "level_filter = BelowLevelFilter(level=logging.ERROR)\n",
    "logging.getLogger().addFilter(level_filter)\n",
    "logging.getLogger().addHandler(logging.StreamHandler())\n",
    "\n",
    "logging.getLogger().error('error_msg')\n",
    "logging.getLogger().warning('warning_msg')"
   ],
   "id": "48e5a698bc6ddc97",
   "outputs": [
    {
     "name": "stderr",
     "output_type": "stream",
     "text": [
      "warning_msg\n"
     ]
    }
   ],
   "execution_count": 3
  }
 ],
 "metadata": {
  "kernelspec": {
   "display_name": "Python 3",
   "language": "python",
   "name": "python3"
  },
  "language_info": {
   "codemirror_mode": {
    "name": "ipython",
    "version": 2
   },
   "file_extension": ".py",
   "mimetype": "text/x-python",
   "name": "python",
   "nbconvert_exporter": "python",
   "pygments_lexer": "ipython2",
   "version": "2.7.6"
  }
 },
 "nbformat": 4,
 "nbformat_minor": 5
}
